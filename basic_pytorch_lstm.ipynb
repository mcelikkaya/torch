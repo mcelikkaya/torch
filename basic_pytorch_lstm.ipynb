{
 "cells": [
  {
   "cell_type": "code",
   "execution_count": 1,
   "metadata": {},
   "outputs": [],
   "source": [
    "#library imports\n",
    "import torch\n",
    "import torch.nn as nn\n",
    "import pandas as pd\n",
    "import numpy as np\n",
    "import string\n",
    "from torch.nn.utils.rnn import pack_padded_sequence, pad_packed_sequence\n"
   ]
  },
  {
   "cell_type": "code",
   "execution_count": 2,
   "metadata": {},
   "outputs": [],
   "source": [
    "x = torch.tensor([[1,2, 12,34, 56,78, 90,800],\n",
    "                 [12,45, 99,67, 6,23, 77,82],\n",
    "                 [3,24, 6,99, 12,56, 21,22]])"
   ]
  },
  {
   "cell_type": "code",
   "execution_count": 3,
   "metadata": {},
   "outputs": [
    {
     "name": "stdout",
     "output_type": "stream",
     "text": [
      "!!!!!! EXCEPTION index out of range at c:\\a\\w\\1\\s\\tmp_conda_3.7_070403\\conda\\conda-bld\\pytorch-cpu_1550387224787\\work\\aten\\src\\th\\generic/THTensorEvenMoreMath.cpp:191\n"
     ]
    }
   ],
   "source": [
    "embedding = nn.Embedding(100, 4, padding_idx=0)\n",
    "try:\n",
    "    embedding(x)\n",
    "except Exception as e:\n",
    "    print(\"!!!!!! EXCEPTION\",e)\n",
    "#because embedding size is 100 and x has 800\n",
    "#out of bounds for embedding"
   ]
  },
  {
   "cell_type": "code",
   "execution_count": 4,
   "metadata": {},
   "outputs": [],
   "source": [
    "x = torch.tensor([[1,2, 12,34, 56,78, 90,80],\n",
    "                 [12,45, 99,67, 6,23, 77,82],\n",
    "                 [3,24, 6,99, 12,56, 21,22]])"
   ]
  },
  {
   "cell_type": "code",
   "execution_count": 5,
   "metadata": {},
   "outputs": [],
   "source": [
    "embedding = nn.Embedding(100, 4, padding_idx=0)\n",
    "lstm = nn.LSTM(input_size=4, hidden_size=4, num_layers=1, batch_first=True)"
   ]
  },
  {
   "cell_type": "code",
   "execution_count": 6,
   "metadata": {},
   "outputs": [],
   "source": [
    "out1 = embedding(x)\n",
    "out2 = lstm(out1)"
   ]
  },
  {
   "cell_type": "code",
   "execution_count": 7,
   "metadata": {},
   "outputs": [
    {
     "name": "stdout",
     "output_type": "stream",
     "text": [
      "torch.Size([3, 8, 4])\n",
      "tensor([[[ 0.1213,  0.6394,  0.4453,  0.0614],\n",
      "         [-1.9590, -0.9193,  0.0855, -0.0672],\n",
      "         [ 2.6248, -0.9895, -0.7465, -1.3162],\n",
      "         [ 1.0287, -0.6980,  0.2701,  1.4103],\n",
      "         [-0.0537,  0.3637, -0.8051, -0.0898],\n",
      "         [ 0.8725, -0.9162,  0.9327,  0.7268],\n",
      "         [-1.2243,  0.2799,  1.0548, -0.6815],\n",
      "         [ 1.3256, -0.8312,  0.9003,  0.0614]],\n",
      "\n",
      "        [[ 2.6248, -0.9895, -0.7465, -1.3162],\n",
      "         [ 0.9697,  0.6942,  0.5068, -0.0855],\n",
      "         [-0.8117, -0.9648, -1.3316,  1.1491],\n",
      "         [-0.2162, -0.0378, -0.1016, -0.7394],\n",
      "         [-0.2051,  0.3395,  2.0863,  1.1382],\n",
      "         [-0.5041,  0.8226, -0.9456, -1.6709],\n",
      "         [-1.5181, -1.1178,  1.1388, -0.2758],\n",
      "         [ 0.4595,  0.1748, -0.9778, -1.9548]],\n",
      "\n",
      "        [[-0.4661, -0.4087, -0.6473,  0.3290],\n",
      "         [ 0.6733, -1.5643,  1.2827, -0.0660],\n",
      "         [-0.2051,  0.3395,  2.0863,  1.1382],\n",
      "         [-0.8117, -0.9648, -1.3316,  1.1491],\n",
      "         [ 2.6248, -0.9895, -0.7465, -1.3162],\n",
      "         [-0.0537,  0.3637, -0.8051, -0.0898],\n",
      "         [ 1.8259, -0.1166, -0.5955, -0.7356],\n",
      "         [-0.5017,  0.1529,  2.6078,  0.5227]]], grad_fn=<EmbeddingBackward>)\n"
     ]
    }
   ],
   "source": [
    "#output of embedding layer\n",
    "print(out1.shape)\n",
    "print(out1)\n",
    "#3 rows\n",
    "#8 elements at each row\n",
    "#4 embedding dimension"
   ]
  },
  {
   "cell_type": "code",
   "execution_count": 8,
   "metadata": {},
   "outputs": [],
   "source": [
    "out, (ht, ct) = out2\n"
   ]
  },
  {
   "cell_type": "code",
   "execution_count": 9,
   "metadata": {},
   "outputs": [
    {
     "name": "stdout",
     "output_type": "stream",
     "text": [
      "torch.Size([3, 8, 4])\n",
      "tensor([[[ 3.5475e-02,  9.9870e-02,  6.1752e-02,  5.3854e-02],\n",
      "         [ 1.3702e-01,  1.2307e-01, -7.2537e-02, -5.8814e-02],\n",
      "         [ 3.9210e-02,  1.2114e-02, -2.2412e-01, -1.3321e-02],\n",
      "         [-6.8954e-02, -3.3705e-02,  8.0874e-02,  7.2888e-02],\n",
      "         [-6.0908e-02, -4.4857e-02, -1.0079e-02,  1.3349e-01],\n",
      "         [-4.5810e-02,  7.3287e-04,  1.0451e-01,  8.0864e-03],\n",
      "         [ 1.1036e-01,  1.5329e-01,  2.4622e-02, -6.4384e-02],\n",
      "         [ 6.0469e-02,  8.7474e-02,  1.1505e-01, -7.4289e-02]],\n",
      "\n",
      "        [[-5.8297e-02, -1.6794e-01, -2.0020e-01,  6.3036e-02],\n",
      "         [-6.2379e-02, -7.3569e-02,  6.6432e-02,  1.3760e-01],\n",
      "         [-8.5328e-02, -8.2679e-02, -1.4774e-01,  4.3378e-02],\n",
      "         [-1.3089e-02, -1.4716e-02, -2.1503e-01, -4.1143e-02],\n",
      "         [ 1.8592e-01,  1.7598e-01, -1.4064e-02, -3.5401e-02],\n",
      "         [ 5.9546e-02,  1.2239e-01, -2.3449e-01, -2.7957e-02],\n",
      "         [ 1.4182e-01,  1.4159e-01, -2.2181e-01, -5.8176e-02],\n",
      "         [ 4.8544e-02,  9.8363e-02, -4.2543e-01, -1.1607e-01]],\n",
      "\n",
      "        [[ 8.3873e-05, -9.0882e-03, -1.4399e-01, -2.3073e-02],\n",
      "         [ 3.6120e-02,  2.0510e-02, -1.0412e-01, -7.3177e-02],\n",
      "         [ 2.1892e-01,  1.9352e-01,  2.0673e-02, -5.9593e-02],\n",
      "         [ 1.3759e-01,  2.8093e-02, -1.8027e-01, -5.2432e-02],\n",
      "         [ 5.3464e-03, -1.4176e-01, -2.6797e-01,  2.1857e-02],\n",
      "         [-2.8908e-02, -1.0115e-01, -2.2513e-01,  9.7307e-02],\n",
      "         [-8.4557e-02, -2.1654e-01, -1.1194e-01,  1.8363e-01],\n",
      "         [ 1.8466e-01,  9.9705e-02,  3.4087e-03, -5.9638e-03]]],\n",
      "       grad_fn=<TransposeBackward0>)\n"
     ]
    }
   ],
   "source": [
    "print(out.shape)\n",
    "print(out)\n",
    "#3 rows\n",
    "#8 elements at each row\n",
    "#4 embedding dimension"
   ]
  },
  {
   "cell_type": "code",
   "execution_count": 10,
   "metadata": {},
   "outputs": [
    {
     "name": "stdout",
     "output_type": "stream",
     "text": [
      "torch.Size([1, 3, 4])\n",
      "tensor([[[ 0.0605,  0.0875,  0.1151, -0.0743],\n",
      "         [ 0.0485,  0.0984, -0.4254, -0.1161],\n",
      "         [ 0.1847,  0.0997,  0.0034, -0.0060]]], grad_fn=<StackBackward>)\n"
     ]
    }
   ],
   "source": [
    "print(ht.shape)\n",
    "print(ht)\n",
    "#1 rows\n",
    "#3 rows\n",
    "#4 embedding dimension this is last generated state by lstm"
   ]
  },
  {
   "cell_type": "code",
   "execution_count": 11,
   "metadata": {},
   "outputs": [
    {
     "name": "stdout",
     "output_type": "stream",
     "text": [
      "torch.Size([1, 3, 4])\n",
      "tensor([[[ 0.1227,  0.1917,  0.2185, -0.2041],\n",
      "         [ 0.1718,  0.1517, -0.7322, -0.3243],\n",
      "         [ 0.4528,  0.2935,  0.0116, -0.0205]]], grad_fn=<StackBackward>)\n"
     ]
    }
   ],
   "source": [
    "print(ct.shape)\n",
    "print(ct)\n",
    "#same as ht dimension cell state"
   ]
  },
  {
   "cell_type": "code",
   "execution_count": null,
   "metadata": {},
   "outputs": [],
   "source": []
  },
  {
   "cell_type": "code",
   "execution_count": null,
   "metadata": {},
   "outputs": [],
   "source": []
  },
  {
   "cell_type": "code",
   "execution_count": null,
   "metadata": {},
   "outputs": [],
   "source": []
  },
  {
   "cell_type": "code",
   "execution_count": null,
   "metadata": {},
   "outputs": [],
   "source": []
  },
  {
   "cell_type": "code",
   "execution_count": null,
   "metadata": {},
   "outputs": [],
   "source": []
  }
 ],
 "metadata": {
  "kernelspec": {
   "display_name": "Python 3",
   "language": "python",
   "name": "python3"
  },
  "language_info": {
   "codemirror_mode": {
    "name": "ipython",
    "version": 3
   },
   "file_extension": ".py",
   "mimetype": "text/x-python",
   "name": "python",
   "nbconvert_exporter": "python",
   "pygments_lexer": "ipython3",
   "version": "3.7.1"
  }
 },
 "nbformat": 4,
 "nbformat_minor": 2
}
