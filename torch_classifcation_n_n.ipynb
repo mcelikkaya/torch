{
 "cells": [
  {
   "cell_type": "code",
   "execution_count": 1,
   "metadata": {},
   "outputs": [
    {
     "data": {
      "text/plain": [
       "<torch._C.Generator at 0x22272140710>"
      ]
     },
     "execution_count": 1,
     "metadata": {},
     "output_type": "execute_result"
    }
   ],
   "source": [
    "\"\"\"\n",
    "In this notebook, I took the sample from pytorch documentation.\n",
    "I added logging for all steps.\n",
    "At the end, i print both dimensions and data.\n",
    "\"\"\"\n",
    "import torch\n",
    "import torch.nn as nn\n",
    "import torch.nn.functional as F\n",
    "import torch.optim as optim\n",
    "import random \n",
    "\n",
    "torch.manual_seed(1)"
   ]
  },
  {
   "cell_type": "code",
   "execution_count": 2,
   "metadata": {},
   "outputs": [],
   "source": [
    "\"\"\"\n",
    "A utility class to log all the sub steps of a\n",
    "pytorch calculation.\n",
    "Usage is sending data with label.\n",
    "If data send is torch tensor, \n",
    "\"\"\"\n",
    "class StepLogger():\n",
    "    def __init__(self,capacity):\n",
    "        self.tensor_datas = {}        \n",
    "        self.capacity = capacity\n",
    "        self.added_labels = []\n",
    "        \n",
    "    \n",
    "    def add_info(self,tensor_data,tensor_label):\n",
    "        if tensor_label not in self.added_labels:\n",
    "            self.added_labels.append( tensor_label )\n",
    "        \n",
    "        if tensor_label in self.tensor_datas.keys():\n",
    "            current_arr = self.tensor_datas.get(tensor_label)\n",
    "            if len(current_arr) < self.capacity:\n",
    "                current_arr = self.tensor_datas.get(tensor_label, [])\n",
    "                current_arr.append(tensor_data)\n",
    "        else:\n",
    "            self.tensor_datas[tensor_label] = [tensor_data]\n",
    "    \n",
    "    def get_default_summary(self,show_data=False,summary_count=1):\n",
    "        self.get_summary(self.added_labels,show_data)\n",
    "        \n",
    "    def get_summary(self,labels,show_data=False,summary_count=1):\n",
    "        count = 0\n",
    "        for i in range(summary_count):\n",
    "            for l in labels:\n",
    "                label_data = self.tensor_datas.get(l)[count]\n",
    "                print(l,\" :\")\n",
    "                if torch.is_tensor(label_data):\n",
    "                    print( list(label_data.size() ) )\n",
    "                if not show_data and not torch.is_tensor(label_data):\n",
    "                    print(label_data)\n",
    "                if show_data:    \n",
    "                    print(label_data)"
   ]
  },
  {
   "cell_type": "code",
   "execution_count": 3,
   "metadata": {},
   "outputs": [
    {
     "name": "stdout",
     "output_type": "stream",
     "text": [
      "{'The': 0, 'dog': 1, 'ate': 2, 'the': 3, 'apple': 4, 'Everybody': 5, 'read': 6, 'that': 7, 'book': 8}\n"
     ]
    }
   ],
   "source": [
    "def prepare_sequence(seq, to_ix):\n",
    "    idxs = [to_ix[w] for w in seq]\n",
    "    return torch.tensor(idxs, dtype=torch.long)\n",
    "\n",
    "\n",
    "training_data = [\n",
    "    (\"The dog ate the apple\".split(), [\"DET\", \"NN\", \"V\", \"DET\", \"NN\"]),\n",
    "    (\"Everybody read that book\".split(), [\"NN\", \"V\", \"DET\", \"NN\"])\n",
    "]\n",
    "word_to_ix = {}\n",
    "for sent, tags in training_data:\n",
    "    for word in sent:\n",
    "        if word not in word_to_ix:\n",
    "            word_to_ix[word] = len(word_to_ix)\n",
    "print(word_to_ix)\n",
    "tag_to_ix = {\"DET\": 0, \"NN\": 1, \"V\": 2}\n",
    "\n",
    "# These will usually be more like 32 or 64 dimensional.\n",
    "# We will keep them small, so we can see how the weights change as we train.\n",
    "EMBEDDING_DIM = 7\n",
    "HIDDEN_DIM = 8"
   ]
  },
  {
   "cell_type": "code",
   "execution_count": null,
   "metadata": {},
   "outputs": [],
   "source": []
  },
  {
   "cell_type": "code",
   "execution_count": null,
   "metadata": {},
   "outputs": [],
   "source": []
  },
  {
   "cell_type": "code",
   "execution_count": 4,
   "metadata": {},
   "outputs": [],
   "source": [
    "class LSTMTagger(nn.Module):\n",
    "\n",
    "    def __init__(self, embedding_dim, hidden_dim, vocab_size, tagset_size):\n",
    "        super(LSTMTagger, self).__init__()\n",
    "        self.hidden_dim = hidden_dim\n",
    "\n",
    "        self.word_embeddings = nn.Embedding(vocab_size, embedding_dim)\n",
    "\n",
    "        # The LSTM takes word embeddings as inputs, and outputs hidden states\n",
    "        # with dimensionality hidden_dim.\n",
    "        self.lstm = nn.LSTM(embedding_dim, hidden_dim)\n",
    "\n",
    "        # The linear layer that maps from hidden state space to tag space\n",
    "        self.hidden2tag = nn.Linear(hidden_dim, tagset_size)\n",
    "\n",
    "    def forward(self, sentence):\n",
    "        step_logger.add_info(sentence,\"forward sentence\")\n",
    "        \n",
    "        embeds = self.word_embeddings(sentence)\n",
    "        step_logger.add_info(embeds,\"forward embeds\")\n",
    "        \n",
    "        lstm_out, _ = self.lstm(embeds.view(len(sentence), 1, -1))\n",
    "        step_logger.add_info(lstm_out,\"forward lstm_out\")\n",
    "        \n",
    "        tag_space = self.hidden2tag(lstm_out.view(len(sentence), -1))\n",
    "        step_logger.add_info(tag_space,\"forward tag_space\")\n",
    "        \n",
    "        tag_scores = F.log_softmax(tag_space, dim=1)\n",
    "        step_logger.add_info(tag_scores,\"forward tag_scores\")\n",
    "        \n",
    "        return tag_scores"
   ]
  },
  {
   "cell_type": "code",
   "execution_count": 5,
   "metadata": {},
   "outputs": [
    {
     "name": "stdout",
     "output_type": "stream",
     "text": [
      "tensor([[-0.7253, -1.4652, -1.2560],\n",
      "        [-0.7562, -1.4105, -1.2500],\n",
      "        [-0.7989, -1.3465, -1.2378],\n",
      "        [-0.8292, -1.4118, -1.1398],\n",
      "        [-0.8057, -1.3929, -1.1879]])\n"
     ]
    }
   ],
   "source": [
    "step_logger =  StepLogger(2)\n",
    "\n",
    "\n",
    "model = LSTMTagger(EMBEDDING_DIM, HIDDEN_DIM, len(word_to_ix), len(tag_to_ix))\n",
    "loss_function = nn.NLLLoss()\n",
    "optimizer = optim.SGD(model.parameters(), lr=0.1)\n",
    "\n",
    "# See what the scores are before training\n",
    "# Note that element i,j of the output is the score for tag j for word i.\n",
    "# Here we don't need to train, so the code is wrapped in torch.no_grad()\n",
    "with torch.no_grad():\n",
    "    inputs = prepare_sequence(training_data[0][0], word_to_ix)\n",
    "    tag_scores = model(inputs)\n",
    "    print(tag_scores)\n",
    "\n",
    "for epoch in range(300):  # again, normally you would NOT do 300 epochs, it is toy data\n",
    "    for sentence, tags in training_data:\n",
    "        # Step 1. Remember that Pytorch accumulates gradients.\n",
    "        # We need to clear them out before each instance\n",
    "        model.zero_grad()\n",
    "\n",
    "        # Step 2. Get our inputs ready for the network, that is, turn them into\n",
    "        # Tensors of word indices.\n",
    "        step_logger.add_info(sentence,\"train sentence\")\n",
    "        \n",
    "        sentence_in = prepare_sequence(sentence, word_to_ix)\n",
    "        step_logger.add_info(sentence_in,\"train sentence_in\")\n",
    "        \n",
    "        targets = prepare_sequence(tags, tag_to_ix)\n",
    "        step_logger.add_info(targets,\"train targets\")\n",
    "\n",
    "        # Step 3. Run our forward pass.\n",
    "        tag_scores = model(sentence_in)\n",
    "        step_logger.add_info(tag_scores,\"train tag_scores\")\n",
    "        step_logger.add_info(targets,\"train targets\")\n",
    "\n",
    "        # Step 4. Compute the loss, gradients, and update the parameters by\n",
    "        #  calling optimizer.step()\n",
    "        loss = loss_function(tag_scores, targets)\n",
    "        loss.backward()\n",
    "        optimizer.step()\n",
    "\n"
   ]
  },
  {
   "cell_type": "code",
   "execution_count": 6,
   "metadata": {},
   "outputs": [
    {
     "name": "stdout",
     "output_type": "stream",
     "text": [
      "tensor([[-0.0195, -4.6641, -4.6179],\n",
      "        [-4.8760, -0.0134, -5.1667],\n",
      "        [-4.0334, -3.8045, -0.0408],\n",
      "        [-0.0260, -4.4073, -4.3085],\n",
      "        [-4.2613, -0.0232, -4.7254]])\n"
     ]
    }
   ],
   "source": [
    "# See what the scores are after training\n",
    "with torch.no_grad():\n",
    "    inputs = prepare_sequence(training_data[0][0], word_to_ix)\n",
    "    tag_scores = model(inputs)\n",
    "    print(tag_scores)"
   ]
  },
  {
   "cell_type": "code",
   "execution_count": 7,
   "metadata": {},
   "outputs": [
    {
     "name": "stdout",
     "output_type": "stream",
     "text": [
      "forward sentence  :\n",
      "[5]\n",
      "forward embeds  :\n",
      "[5, 7]\n",
      "forward lstm_out  :\n",
      "[5, 1, 8]\n",
      "forward tag_space  :\n",
      "[5, 3]\n",
      "forward tag_scores  :\n",
      "[5, 3]\n",
      "train sentence  :\n",
      "['The', 'dog', 'ate', 'the', 'apple']\n",
      "train sentence_in  :\n",
      "[5]\n",
      "train targets  :\n",
      "[5]\n",
      "train tag_scores  :\n",
      "[5, 3]\n"
     ]
    }
   ],
   "source": [
    "step_logger.get_default_summary(False)"
   ]
  },
  {
   "cell_type": "code",
   "execution_count": 8,
   "metadata": {},
   "outputs": [
    {
     "name": "stdout",
     "output_type": "stream",
     "text": [
      "forward sentence  :\n",
      "[5]\n",
      "tensor([0, 1, 2, 3, 4])\n",
      "forward embeds  :\n",
      "[5, 7]\n",
      "tensor([[-1.5256, -0.7502, -0.6540, -1.6095, -0.1002, -0.6092, -0.9798],\n",
      "        [-1.6091, -0.7121,  0.3037, -0.7773, -0.2515, -0.2223,  1.6871],\n",
      "        [ 0.2284,  0.4676, -0.6970, -1.1608,  0.6995,  0.1991,  0.8657],\n",
      "        [ 0.2444, -0.6629,  0.8073,  1.1017, -0.1759, -2.2456, -1.4465],\n",
      "        [ 0.0612, -0.6177, -0.7981, -0.1316,  1.8793, -0.0721,  0.1578]])\n",
      "forward lstm_out  :\n",
      "[5, 1, 8]\n",
      "tensor([[[-0.0419, -0.0577, -0.0328,  0.0022, -0.0187, -0.1390,  0.1471,\n",
      "           0.1007]],\n",
      "\n",
      "        [[ 0.1646, -0.0772,  0.0060,  0.0156, -0.1495,  0.0406,  0.0428,\n",
      "           0.0386]],\n",
      "\n",
      "        [[ 0.0377,  0.0673,  0.0400, -0.0369, -0.1993, -0.0185,  0.0626,\n",
      "          -0.1663]],\n",
      "\n",
      "        [[ 0.0278, -0.0318, -0.0582,  0.2148, -0.1254,  0.1479,  0.0165,\n",
      "          -0.0046]],\n",
      "\n",
      "        [[-0.0126,  0.1178,  0.0768,  0.1926, -0.3055,  0.0439,  0.1439,\n",
      "          -0.1545]]])\n",
      "forward tag_space  :\n",
      "[5, 3]\n",
      "tensor([[ 0.3876, -0.3523, -0.1431],\n",
      "        [ 0.3101, -0.3441, -0.1836],\n",
      "        [ 0.2933, -0.2542, -0.1456],\n",
      "        [ 0.2535, -0.3291, -0.0571],\n",
      "        [ 0.2949, -0.2923, -0.0873]])\n",
      "forward tag_scores  :\n",
      "[5, 3]\n",
      "tensor([[-0.7253, -1.4652, -1.2560],\n",
      "        [-0.7562, -1.4105, -1.2500],\n",
      "        [-0.7989, -1.3465, -1.2378],\n",
      "        [-0.8292, -1.4118, -1.1398],\n",
      "        [-0.8057, -1.3929, -1.1879]])\n",
      "train sentence  :\n",
      "['The', 'dog', 'ate', 'the', 'apple']\n",
      "train sentence_in  :\n",
      "[5]\n",
      "tensor([0, 1, 2, 3, 4])\n",
      "train targets  :\n",
      "[5]\n",
      "tensor([0, 1, 2, 0, 1])\n",
      "train tag_scores  :\n",
      "[5, 3]\n",
      "tensor([[-0.7253, -1.4652, -1.2560],\n",
      "        [-0.7562, -1.4105, -1.2500],\n",
      "        [-0.7989, -1.3465, -1.2378],\n",
      "        [-0.8292, -1.4118, -1.1398],\n",
      "        [-0.8057, -1.3929, -1.1879]], grad_fn=<LogSoftmaxBackward>)\n"
     ]
    }
   ],
   "source": [
    "step_logger.get_default_summary(True)"
   ]
  },
  {
   "cell_type": "code",
   "execution_count": null,
   "metadata": {},
   "outputs": [],
   "source": []
  }
 ],
 "metadata": {
  "kernelspec": {
   "display_name": "Python 3",
   "language": "python",
   "name": "python3"
  },
  "language_info": {
   "codemirror_mode": {
    "name": "ipython",
    "version": 3
   },
   "file_extension": ".py",
   "mimetype": "text/x-python",
   "name": "python",
   "nbconvert_exporter": "python",
   "pygments_lexer": "ipython3",
   "version": "3.7.1"
  }
 },
 "nbformat": 4,
 "nbformat_minor": 2
}
