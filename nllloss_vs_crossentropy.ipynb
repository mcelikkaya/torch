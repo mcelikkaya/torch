{
  "nbformat": 4,
  "nbformat_minor": 0,
  "metadata": {
    "colab": {
      "name": "nllloss_vs_crossentropy.ipynb",
      "provenance": [],
      "collapsed_sections": []
    },
    "kernelspec": {
      "name": "python3",
      "display_name": "Python 3"
    }
  },
  "cells": [
    {
      "cell_type": "code",
      "metadata": {
        "id": "RGcFC4XbyZTS",
        "colab_type": "code",
        "colab": {}
      },
      "source": [
        "\"\"\"\n",
        "In this notebook, I try usage of \n",
        "logsoftmax and crossentropy\n",
        "I dump all inputs in all steps.\n",
        "At the end, i tried manual calculation of crossentropy.\n",
        "\"\"\"\n",
        "import numpy as np\n",
        "import torch\n",
        "import torch.nn.functional as F\n",
        "from torch import nn\n",
        "from torch.autograd import Variable\n",
        "from math import exp\n",
        "import math\n"
      ],
      "execution_count": 31,
      "outputs": []
    },
    {
      "cell_type": "code",
      "metadata": {
        "id": "sy7z9tweyctE",
        "colab_type": "code",
        "colab": {}
      },
      "source": [
        "class SimpleModel(nn.Module):\n",
        "\n",
        "    def __init__(self, n_features, n_hiddens, n_classes,apply_transform):\n",
        "        super(SimpleModel, self).__init__()\n",
        "        self.gru = torch.nn.GRU(n_features, n_hiddens)\n",
        "        self.linear = torch.nn.Linear(n_hiddens, n_classes)\n",
        "        self.apply_transform = apply_transform\n",
        "\n",
        "    def forward(self, x):\n",
        "        o, h = self.gru(x)\n",
        "        o = self.linear(o)\n",
        "\n",
        "        if self.apply_transform == 1:\n",
        "            o = F.log_softmax(o)\n",
        "\n",
        "\n",
        "        return o"
      ],
      "execution_count": 12,
      "outputs": []
    },
    {
      "cell_type": "code",
      "metadata": {
        "id": "lrkqqZu3yecK",
        "colab_type": "code",
        "colab": {}
      },
      "source": [
        "n_steps = 2 #sequence\n",
        "n_classes = 4 #target class label dimension\n",
        "mb_size = 3 #batch\n",
        "n_features = 5 #input_size \n",
        "n_hiddens = 6 #hidden size\n",
        "#(gru): GRU(5, 6)\n",
        "#(linear): Linear(in_features=6, out_features=4, bias=True)"
      ],
      "execution_count": 13,
      "outputs": []
    },
    {
      "cell_type": "code",
      "metadata": {
        "id": "dr8Ba9Gtylal",
        "colab_type": "code",
        "colab": {
          "base_uri": "https://localhost:8080/",
          "height": 53
        },
        "outputId": "fa46c8cf-9f85-434a-b5f3-d4deeea84cbe"
      },
      "source": [
        "nll_loss = torch.nn.NLLLoss(size_average=False)\n",
        "cross_entropy = torch.nn.CrossEntropyLoss(size_average=False)\n",
        "\n",
        "x = Variable(torch.rand(n_steps, mb_size, n_features))\n",
        "y = Variable(\n",
        "    torch.LongTensor(np.random.randint(0, n_classes, (n_steps, mb_size))))"
      ],
      "execution_count": 14,
      "outputs": [
        {
          "output_type": "stream",
          "text": [
            "/usr/local/lib/python3.6/dist-packages/torch/nn/_reduction.py:43: UserWarning: size_average and reduce args will be deprecated, please use reduction='sum' instead.\n",
            "  warnings.warn(warning.format(ret))\n"
          ],
          "name": "stderr"
        }
      ]
    },
    {
      "cell_type": "code",
      "metadata": {
        "id": "5rz8v7QMymAc",
        "colab_type": "code",
        "colab": {
          "base_uri": "https://localhost:8080/",
          "height": 217
        },
        "outputId": "f2c8a1f0-38f5-4a17-aa2b-baae524a6705"
      },
      "source": [
        "print(\"x\",x.size())\n",
        "print(\"x\",x)\n",
        "print(\"y\",y.size())\n",
        "print(\"y\",y)\n",
        "#2 steps\n",
        "#3 batch size\n",
        "#5 number of features"
      ],
      "execution_count": 15,
      "outputs": [
        {
          "output_type": "stream",
          "text": [
            "x torch.Size([2, 3, 5])\n",
            "x tensor([[[0.3080, 0.5794, 0.4141, 0.9090, 0.4658],\n",
            "         [0.6117, 0.1690, 0.9558, 0.3141, 0.5847],\n",
            "         [0.4494, 0.7352, 0.6705, 0.1690, 0.7494]],\n",
            "\n",
            "        [[0.6088, 0.6791, 0.8987, 0.8343, 0.8775],\n",
            "         [0.5871, 0.5587, 0.8751, 0.7659, 0.1382],\n",
            "         [0.9957, 0.3977, 0.6809, 0.3777, 0.6591]]])\n",
            "y torch.Size([2, 3])\n",
            "y tensor([[2, 0, 2],\n",
            "        [0, 0, 0]])\n"
          ],
          "name": "stdout"
        }
      ]
    },
    {
      "cell_type": "code",
      "metadata": {
        "id": "pvuK6x8Lym_D",
        "colab_type": "code",
        "colab": {
          "base_uri": "https://localhost:8080/",
          "height": 162
        },
        "outputId": "3ca79bf9-df12-4615-bdb3-2b93ea7adbe7"
      },
      "source": [
        "model_cross = SimpleModel(n_features, n_hiddens, n_classes,apply_transform=0)\n",
        "model_logsoftmax = SimpleModel(n_features, n_hiddens, n_classes,apply_transform=1)\n",
        "\n",
        "print(\"model_cross\",model_cross)\n",
        "print(\"model_logsoftmax\",model_logsoftmax)"
      ],
      "execution_count": 16,
      "outputs": [
        {
          "output_type": "stream",
          "text": [
            "model_cross SimpleModel(\n",
            "  (gru): GRU(5, 6)\n",
            "  (linear): Linear(in_features=6, out_features=4, bias=True)\n",
            ")\n",
            "model_logsoftmax SimpleModel(\n",
            "  (gru): GRU(5, 6)\n",
            "  (linear): Linear(in_features=6, out_features=4, bias=True)\n",
            ")\n"
          ],
          "name": "stdout"
        }
      ]
    },
    {
      "cell_type": "code",
      "metadata": {
        "id": "XvPS5H45Ckei",
        "colab_type": "code",
        "colab": {
          "base_uri": "https://localhost:8080/",
          "height": 73
        },
        "outputId": "898227cc-c9a5-43ad-8250-37e645181c47"
      },
      "source": [
        "result_cross = model_cross(x)\n",
        "result_logsoftmax = model_logsoftmax(x)"
      ],
      "execution_count": 18,
      "outputs": [
        {
          "output_type": "stream",
          "text": [
            "/usr/local/lib/python3.6/dist-packages/ipykernel_launcher.py:14: UserWarning: Implicit dimension choice for log_softmax has been deprecated. Change the call to include dim=X as an argument.\n",
            "  \n"
          ],
          "name": "stderr"
        }
      ]
    },
    {
      "cell_type": "code",
      "metadata": {
        "id": "PHo7AJbyzMkK",
        "colab_type": "code",
        "colab": {
          "base_uri": "https://localhost:8080/",
          "height": 162
        },
        "outputId": "b5353c9c-4057-462d-8c52-e0a12eb73a59"
      },
      "source": [
        "print(\"result_cross\",result_cross.size())\n",
        "print(\"result_cross\",result_cross)\n",
        "#2 steps\n",
        "#3 batch size\n",
        "#4 number of classes\n",
        "#result 1 , all negative because of log"
      ],
      "execution_count": 20,
      "outputs": [
        {
          "output_type": "stream",
          "text": [
            "result_cross torch.Size([2, 3, 4])\n",
            "result_cross tensor([[[ 0.0032,  0.1947,  0.2598, -0.4067],\n",
            "         [ 0.0695,  0.1574,  0.1933, -0.4582],\n",
            "         [ 0.0250,  0.1352,  0.1841, -0.4064]],\n",
            "\n",
            "        [[ 0.0310,  0.1820,  0.2941, -0.4714],\n",
            "         [ 0.0780,  0.1289,  0.1839, -0.4617],\n",
            "         [ 0.0777,  0.1320,  0.1961, -0.4374]]], grad_fn=<AddBackward0>)\n"
          ],
          "name": "stdout"
        }
      ]
    },
    {
      "cell_type": "code",
      "metadata": {
        "id": "SyD54QPyzTp4",
        "colab_type": "code",
        "colab": {
          "base_uri": "https://localhost:8080/",
          "height": 162
        },
        "outputId": "2c1c5b32-4a4e-4f8b-82d2-2054e4a1ee14"
      },
      "source": [
        "print(\"result_logsoftmax\",result_logsoftmax.size())\n",
        "print(\"result_logsoftmax\",result_logsoftmax)\n",
        "#2 steps\n",
        "#3 batch size\n",
        "#4 number of classes\n",
        "#result 1 , all negative because of log"
      ],
      "execution_count": 23,
      "outputs": [
        {
          "output_type": "stream",
          "text": [
            "result_logsoftmax torch.Size([2, 3, 4])\n",
            "result_logsoftmax tensor([[[-0.7413, -0.6607, -0.8037, -0.6391],\n",
            "         [-0.7207, -0.6572, -0.7711, -0.6637],\n",
            "         [-0.7296, -0.6717, -0.7849, -0.6433]],\n",
            "\n",
            "        [[-0.6472, -0.7267, -0.5936, -0.7502],\n",
            "         [-0.6664, -0.7305, -0.6209, -0.7234],\n",
            "         [-0.6580, -0.7150, -0.6091, -0.7456]]], grad_fn=<LogSoftmaxBackward>)\n"
          ],
          "name": "stdout"
        }
      ]
    },
    {
      "cell_type": "code",
      "metadata": {
        "id": "_BBjj2OLzbRM",
        "colab_type": "code",
        "colab": {
          "base_uri": "https://localhost:8080/",
          "height": 53
        },
        "outputId": "83f48be2-0423-4f60-e344-c0971cd84b09"
      },
      "source": [
        "logits_cross = result_cross.view(-1, n_classes)\n",
        "logits_logsoftmax= result_logsoftmax.view(-1, n_classes)\n",
        "print(\"logits_cross\",logits_cross.size())\n",
        "print(\"logits_logsoftmax\",logits_logsoftmax.size())"
      ],
      "execution_count": 24,
      "outputs": [
        {
          "output_type": "stream",
          "text": [
            "logits_cross torch.Size([6, 4])\n",
            "logits_logsoftmax torch.Size([6, 4])\n"
          ],
          "name": "stdout"
        }
      ]
    },
    {
      "cell_type": "code",
      "metadata": {
        "id": "XJCNIxzkzuio",
        "colab_type": "code",
        "colab": {
          "base_uri": "https://localhost:8080/",
          "height": 162
        },
        "outputId": "627c0061-7d22-450b-a5f2-70542f0b8d48"
      },
      "source": [
        "print(\"logits_cross\",logits_cross)\n",
        "print(\"y.view(-1)\",y.view(-1))\n",
        "loss_cross =  cross_entropy(logits_cross, y.view(-1))\n",
        "print(\"loss_lnn\",loss_cross)"
      ],
      "execution_count": 25,
      "outputs": [
        {
          "output_type": "stream",
          "text": [
            "logits_cross tensor([[ 0.0032,  0.1947,  0.2598, -0.4067],\n",
            "        [ 0.0695,  0.1574,  0.1933, -0.4582],\n",
            "        [ 0.0250,  0.1352,  0.1841, -0.4064],\n",
            "        [ 0.0310,  0.1820,  0.2941, -0.4714],\n",
            "        [ 0.0780,  0.1289,  0.1839, -0.4617],\n",
            "        [ 0.0777,  0.1320,  0.1961, -0.4374]], grad_fn=<ViewBackward>)\n",
            "y.view(-1) tensor([2, 0, 2, 0, 0, 0])\n",
            "loss_lnn tensor(7.7747, grad_fn=<NllLossBackward>)\n"
          ],
          "name": "stdout"
        }
      ]
    },
    {
      "cell_type": "code",
      "metadata": {
        "id": "k3aQf5yGzvr1",
        "colab_type": "code",
        "colab": {
          "base_uri": "https://localhost:8080/",
          "height": 199
        },
        "outputId": "1c0ebb6c-e0ca-488a-b958-f12476886b63"
      },
      "source": [
        "print(\"logits_logsoftmax\",logits_logsoftmax.size())\n",
        "print(\"y.view(-1)\",y.view(-1).size())\n",
        "print(\"logits_logsoftmax\",logits_logsoftmax)\n",
        "print(\"y.view(-1)\",y.view(-1))\n",
        "loss_logsoftmax = nll_loss(logits_logsoftmax, y.view(-1))\n",
        "print(\"loss_logsoftmax\",loss_logsoftmax)"
      ],
      "execution_count": 26,
      "outputs": [
        {
          "output_type": "stream",
          "text": [
            "logits_logsoftmax torch.Size([6, 4])\n",
            "y.view(-1) torch.Size([6])\n",
            "logits_logsoftmax tensor([[-0.7413, -0.6607, -0.8037, -0.6391],\n",
            "        [-0.7207, -0.6572, -0.7711, -0.6637],\n",
            "        [-0.7296, -0.6717, -0.7849, -0.6433],\n",
            "        [-0.6472, -0.7267, -0.5936, -0.7502],\n",
            "        [-0.6664, -0.7305, -0.6209, -0.7234],\n",
            "        [-0.6580, -0.7150, -0.6091, -0.7456]], grad_fn=<ViewBackward>)\n",
            "y.view(-1) tensor([2, 0, 2, 0, 0, 0])\n",
            "loss_logsoftmax tensor(4.2808, grad_fn=<NllLossBackward>)\n"
          ],
          "name": "stdout"
        }
      ]
    },
    {
      "cell_type": "code",
      "metadata": {
        "id": "IFTVeOUZz4jK",
        "colab_type": "code",
        "colab": {
          "base_uri": "https://localhost:8080/",
          "height": 90
        },
        "outputId": "671309da-0c40-4c68-9580-0a230079776d"
      },
      "source": [
        "for x in logits_logsoftmax[0,:]:\n",
        "  print( x,exp(x))"
      ],
      "execution_count": 27,
      "outputs": [
        {
          "output_type": "stream",
          "text": [
            "tensor(-0.7413, grad_fn=<SelectBackward>) 0.4764848463683123\n",
            "tensor(-0.6607, grad_fn=<SelectBackward>) 0.5165003973276866\n",
            "tensor(-0.8037, grad_fn=<SelectBackward>) 0.4476625411977141\n",
            "tensor(-0.6391, grad_fn=<SelectBackward>) 0.5277488535078471\n"
          ],
          "name": "stdout"
        }
      ]
    },
    {
      "cell_type": "code",
      "metadata": {
        "id": "3qjGb-qX0LVE",
        "colab_type": "code",
        "colab": {}
      },
      "source": [
        "#CrossEntropyLoss calculation \n",
        "#loss(x, class) = -log(exp(x[class]) / (\\sum_j exp(x[j])))\n",
        "#               = -x[class] + log(\\sum_j exp(x[j]))"
      ],
      "execution_count": 44,
      "outputs": []
    },
    {
      "cell_type": "code",
      "metadata": {
        "id": "MVntg1QILz9T",
        "colab_type": "code",
        "colab": {
          "base_uri": "https://localhost:8080/",
          "height": 35
        },
        "outputId": "8ca26dd2-7666-42ff-aec4-a33f99fe6688"
      },
      "source": [
        "#formula when correct\n",
        "loss = -1 + math.log(exp(0) + exp(0) + exp(0) + exp(1))\n",
        "loss"
      ],
      "execution_count": 42,
      "outputs": [
        {
          "output_type": "execute_result",
          "data": {
            "text/plain": [
              "0.743668380628679"
            ]
          },
          "metadata": {
            "tags": []
          },
          "execution_count": 42
        }
      ]
    },
    {
      "cell_type": "code",
      "metadata": {
        "id": "2STuY8oTJ5YE",
        "colab_type": "code",
        "colab": {
          "base_uri": "https://localhost:8080/",
          "height": 35
        },
        "outputId": "134626c1-330e-4109-e6ae-0938c0595356"
      },
      "source": [
        "#formula when wrong\n",
        "loss = -0 + math.log(exp(1) + exp(0) + exp(0) + exp(0))\n",
        "loss"
      ],
      "execution_count": 43,
      "outputs": [
        {
          "output_type": "execute_result",
          "data": {
            "text/plain": [
              "1.743668380628679"
            ]
          },
          "metadata": {
            "tags": []
          },
          "execution_count": 43
        }
      ]
    },
    {
      "cell_type": "code",
      "metadata": {
        "id": "bR8Ay5XFJf4g",
        "colab_type": "code",
        "colab": {
          "base_uri": "https://localhost:8080/",
          "height": 35
        },
        "outputId": "2d9e3b1e-7706-4eca-e962-922942638d6d"
      },
      "source": [
        "#calculate with library\n",
        "output = Variable(torch.FloatTensor([0,0,0,1])).view(1, -1)\n",
        "target = Variable(torch.LongTensor([3]))\n",
        "\n",
        "criterion = nn.CrossEntropyLoss()\n",
        "loss = criterion(output, target)\n",
        "print(loss)"
      ],
      "execution_count": 34,
      "outputs": [
        {
          "output_type": "stream",
          "text": [
            "tensor(0.7437)\n"
          ],
          "name": "stdout"
        }
      ]
    },
    {
      "cell_type": "code",
      "metadata": {
        "id": "J2dgyFUI0Ruf",
        "colab_type": "code",
        "colab": {
          "base_uri": "https://localhost:8080/",
          "height": 35
        },
        "outputId": "9c53f558-d8c6-45fc-fe64-d6cfecfd9643"
      },
      "source": [
        "#calculate with library\n",
        "\n",
        "output = Variable(torch.FloatTensor([1,0,0,0])).view(1, -1)\n",
        "target = Variable(torch.LongTensor([3]))\n",
        "\n",
        "criterion = nn.CrossEntropyLoss()\n",
        "loss = criterion(output, target)\n",
        "print(loss)"
      ],
      "execution_count": 45,
      "outputs": [
        {
          "output_type": "stream",
          "text": [
            "tensor(1.7437)\n"
          ],
          "name": "stdout"
        }
      ]
    },
    {
      "cell_type": "code",
      "metadata": {
        "id": "qlIQarZn0VBu",
        "colab_type": "code",
        "colab": {}
      },
      "source": [
        ""
      ],
      "execution_count": 45,
      "outputs": []
    },
    {
      "cell_type": "code",
      "metadata": {
        "id": "uvKEa9ZjNhUj",
        "colab_type": "code",
        "colab": {}
      },
      "source": [
        ""
      ],
      "execution_count": 45,
      "outputs": []
    },
    {
      "cell_type": "code",
      "metadata": {
        "id": "mFgCMnG-NxcI",
        "colab_type": "code",
        "colab": {}
      },
      "source": [
        ""
      ],
      "execution_count": 45,
      "outputs": []
    },
    {
      "cell_type": "code",
      "metadata": {
        "id": "6Lm828uvOAmS",
        "colab_type": "code",
        "colab": {}
      },
      "source": [
        ""
      ],
      "execution_count": 45,
      "outputs": []
    },
    {
      "cell_type": "code",
      "metadata": {
        "id": "wQSOOEbxOcrD",
        "colab_type": "code",
        "colab": {}
      },
      "source": [
        ""
      ],
      "execution_count": null,
      "outputs": []
    }
  ]
}