{
 "cells": [
  {
   "cell_type": "code",
   "execution_count": 1,
   "metadata": {},
   "outputs": [
    {
     "name": "stderr",
     "output_type": "stream",
     "text": [
      "WARNING (theano.configdefaults): g++ not available, if using conda: `conda install m2w64-toolchain`\n",
      "WARNING (theano.configdefaults): g++ not detected ! Theano will be unable to execute optimized C-implementations (for both CPU and GPU) and will default to Python implementations. Performance will be severely degraded. To remove this warning, set Theano flags cxx to an empty string.\n",
      "WARNING (theano.tensor.blas): Using NumPy C-API based implementation for BLAS functions.\n"
     ]
    }
   ],
   "source": [
    "\"\"\"In this notebook\n",
    "I play with a dropout MLP model for pytorch,i found from internet.\n",
    "I want to use this as basis for other things i will do with Dropout for my mnist like project.\n",
    "\"\"\"\n",
    "import warnings\n",
    "warnings.filterwarnings(\"ignore\")\n",
    "\n",
    "import numpy as np\n",
    "import pandas as pd\n",
    "import time\n",
    "import h5py\n",
    "from scipy.ndimage.interpolation import rotate\n",
    "\n",
    "import matplotlib\n",
    "import matplotlib.pyplot as plt\n",
    "import matplotlib.image as mpimg\n",
    "import matplotlib.gridspec as gridspec\n",
    "\n",
    "import seaborn as sns\n",
    "%matplotlib inline\n",
    "\n",
    "import torch\n",
    "import torchvision\n",
    "from torchvision import datasets\n",
    "from torchvision import transforms\n",
    "from torch.autograd import Variable\n",
    "import torch.nn as nn\n",
    "import torch.nn.functional as F\n",
    "import torch.optim as optim\n",
    "from torch.utils.data.sampler import SubsetRandomSampler\n",
    "\n",
    "import pymc3 as pm"
   ]
  },
  {
   "cell_type": "code",
   "execution_count": 2,
   "metadata": {},
   "outputs": [],
   "source": [
    "class CustomDropout(nn.Module):\n",
    "    def __init__(self, p=0.5):\n",
    "        super(CustomDropout, self).__init__()\n",
    "        self.p = p\n",
    "        # multiplier is 1/(1-p). Set multiplier to 0 when p=1 to avoid error...\n",
    "        if self.p < 1:\n",
    "            self.multiplier_ = 1.0 / (1.0-p)\n",
    "        else:\n",
    "            self.multiplier_ = 0.0\n",
    "    def forward(self, input):\n",
    "        # if model.eval(), don't apply dropout\n",
    "        if not self.training:\n",
    "            return input\n",
    "        \n",
    "        # So that we have `input.shape` numbers of Bernoulli(1-p) samples\n",
    "        selected_ = torch.Tensor(input.shape).uniform_(0,1)>self.p\n",
    "        \n",
    "        # To support both CPU and GPU.\n",
    "        if input.is_cuda:\n",
    "            selected_ = Variable(selected_.type(torch.cuda.FloatTensor), requires_grad=False)\n",
    "        else:\n",
    "            selected_ = Variable(selected_.type(torch.FloatTensor), requires_grad=False)\n",
    "            \n",
    "        # Multiply output by multiplier as described in the paper [1]\n",
    "        return torch.mul(selected_,input) * self.multiplier_"
   ]
  },
  {
   "cell_type": "code",
   "execution_count": 3,
   "metadata": {},
   "outputs": [
    {
     "data": {
      "text/plain": [
       "<matplotlib.image.AxesImage at 0x28f022c6eb8>"
      ]
     },
     "execution_count": 3,
     "metadata": {},
     "output_type": "execute_result"
    },
    {
     "data": {
      "image/png": "[encoded data removed]",
      "text/plain": [
       "<Figure size 432x288 with 1 Axes>"
      ]
     },
     "metadata": {
      "needs_background": "light"
     },
     "output_type": "display_data"
    }
   ],
   "source": [
    "#load a pytorch dataset without tranforming\n",
    "transform = transforms.Compose([transforms.ToTensor()])\n",
    "trainset2 = datasets.MNIST(root='data/', train=True, download=True, transform=transform)\n",
    "trainloader2 = torch.utils.data.DataLoader(trainset2, batch_size=64, shuffle=True, num_workers=2)\n",
    "dataiter2 = iter(trainloader2)\n",
    "images2, labels2 = dataiter2.next()\n",
    "plt.imshow(images2[0].squeeze(),cmap=\"gray\")"
   ]
  },
  {
   "cell_type": "code",
   "execution_count": 4,
   "metadata": {},
   "outputs": [],
   "source": [
    "#transform = transforms.Compose([transforms.ToTensor(), \\\n",
    "#                                transforms.Normalize((0, 0, 0), (1, 1, 1))])\n",
    "\n",
    "transform = transforms.Compose([transforms.ToTensor(),\n",
    "  transforms.Normalize((0.5,), (0.5,))\n",
    "])\n",
    "\n",
    "trainset = datasets.MNIST(root='data/', train=True, download=True, transform=transform)\n",
    "testset = datasets.MNIST(root='data/', train=False, transform=transform)\n",
    "\n",
    "#pytorch loader\n",
    "trainloader = torch.utils.data.DataLoader(trainset, batch_size=64, shuffle=True, num_workers=2)\n",
    "dataiter = iter(trainloader)\n",
    "images, labels = dataiter.next()"
   ]
  },
  {
   "cell_type": "code",
   "execution_count": 5,
   "metadata": {},
   "outputs": [
    {
     "name": "stdout",
     "output_type": "stream",
     "text": [
      "labels tensor(4)\n",
      "torch.Size([1, 28, 28])\n"
     ]
    },
    {
     "data": {
      "text/plain": [
       "<matplotlib.image.AxesImage at 0x28f06a1a748>"
      ]
     },
     "execution_count": 5,
     "metadata": {},
     "output_type": "execute_result"
    },
    {
     "data": {
      "image/png": "[encoded data removed]",
      "text/plain": [
       "<Figure size 432x288 with 1 Axes>"
      ]
     },
     "metadata": {
      "needs_background": "light"
     },
     "output_type": "display_data"
    }
   ],
   "source": [
    "print(\"labels\",labels[0])\n",
    "print(images[0].shape)\n",
    "plt.imshow(images[0].squeeze(),cmap=\"gray\")"
   ]
  },
  {
   "cell_type": "code",
   "execution_count": 6,
   "metadata": {},
   "outputs": [
    {
     "data": {
      "image/png": "[encoded data removed]",
      "text/plain": [
       "<Figure size 432x288 with 10 Axes>"
      ]
     },
     "metadata": {
      "needs_background": "light"
     },
     "output_type": "display_data"
    },
    {
     "name": "stdout",
     "output_type": "stream",
     "text": [
      "label: [4 0 4 4 9 2 0 5 1 3]\n",
      "image data shape: (1, 28, 28)\n"
     ]
    }
   ],
   "source": [
    "_,ax = plt.subplots(1,10)\n",
    "ax = ax.flatten()\n",
    "iml = images[0].numpy().shape[1]\n",
    "[ax[i].imshow(images[i].numpy().squeeze(),cmap='Greys') for i in range(10)]\n",
    "[ax[i].set_axis_off() for i in range(10)]\n",
    "plt.show()\n",
    "print('label:',labels[:10].numpy())\n",
    "print('image data shape:',images[0].numpy().shape)"
   ]
  },
  {
   "cell_type": "code",
   "execution_count": 7,
   "metadata": {},
   "outputs": [],
   "source": [
    "class MLP(nn.Module):\n",
    "    def __init__(self, hidden_layers=[800, 800], droprates=[0, 0]):\n",
    "        super(MLP, self).__init__()\n",
    "        self.model = nn.Sequential()\n",
    "        self.model.add_module(\"dropout0\",CustomDropout(p=droprates[0]))\n",
    "        self.model.add_module(\"input\", nn.Linear(28*28, hidden_layers[0]))\n",
    "        self.model.add_module(\"tanh\", nn.Tanh())\n",
    "        \n",
    "        # Add hidden layers\n",
    "        for i,d in enumerate(hidden_layers[:-1]):\n",
    "            self.model.add_module(\"dropout_hidden\"+str(i+1), CustomDropout(p=droprates[1]))\n",
    "            self.model.add_module(\"hidden\"+str(i+1), nn.Linear(hidden_layers[i], hidden_layers[i+1]))\n",
    "            self.model.add_module(\"tanh_hidden\"+str(i+1), nn.Tanh())\n",
    "        self.model.add_module(\"final\",nn.Linear(hidden_layers[-1], 10))        \n",
    "        \n",
    "    def forward(self, x):\n",
    "        # Turn to 1D\n",
    "        x = x.view(x.shape[0], 28*28)\n",
    "        x = self.model(x)\n",
    "        return x"
   ]
  },
  {
   "cell_type": "code",
   "execution_count": 8,
   "metadata": {},
   "outputs": [],
   "source": [
    "class MLPClassifier:\n",
    "    def __init__(self, hidden_layers=[800, 800], droprates=[0, 0], batch_size=128, max_epoch=10, \\\n",
    "                 lr=0.1, momentum=0):\n",
    "        # Wrap MLP model\n",
    "        self.hidden_layers = hidden_layers\n",
    "        self.droprates = droprates\n",
    "        self.batch_size = batch_size\n",
    "        self.max_epoch = max_epoch\n",
    "        self.model = MLP(hidden_layers=hidden_layers, droprates=droprates)\n",
    "        #self.model.cuda()\n",
    "        self.criterion = nn.CrossEntropyLoss().cuda()\n",
    "        self.optimizer = optim.SGD(self.model.parameters(), lr=lr, momentum=momentum)\n",
    "        self.loss_ = []\n",
    "        self.test_accuracy = []\n",
    "        self.test_error = []\n",
    "        \n",
    "    def fit(self, trainset, testset, verbose=True):\n",
    "        # Training, make sure it's on GPU, otherwise, very slow...\n",
    "        trainloader = torch.utils.data.DataLoader(trainset, batch_size=self.batch_size, shuffle=True)\n",
    "        testloader = torch.utils.data.DataLoader(testset, batch_size=len(testset), shuffle=False)\n",
    "        X_test, y_test = iter(testloader).next()\n",
    "        X_test = X_test #.cuda()\n",
    "        for epoch in range(self.max_epoch):\n",
    "            running_loss = 0\n",
    "            for i, data in enumerate(trainloader, 0):\n",
    "                inputs, labels = data\n",
    "                inputs, labels = Variable(inputs), Variable(labels)\n",
    "                self.optimizer.zero_grad()\n",
    "                outputs = self.model(inputs)\n",
    "                loss = self.criterion(outputs, labels)\n",
    "                loss.backward()\n",
    "                self.optimizer.step()\n",
    "                #print(\"loss.data[0]\",loss.data)\n",
    "                running_loss += loss.data\n",
    "            self.loss_.append(running_loss / len(trainloader))\n",
    "            if verbose:\n",
    "                print('Epoch {} loss: {}'.format(epoch+1, self.loss_[-1]))\n",
    "            y_test_pred = self.predict(X_test).cpu()\n",
    "            #print(\"y_test\",y_test)\n",
    "            #print(\"y_test_pred\",y_test_pred)\n",
    "            #print(\"y_test == y_test_pred\",(y_test == y_test_pred))\n",
    "            #print(\"y_test == y_test_pred\",(y_test == y_test_pred).shape)\n",
    "            self.test_accuracy.append(np.mean( (y_test == y_test_pred).numpy() ))\n",
    "            self.test_error.append(int(len(testset)*(1-self.test_accuracy[-1])))\n",
    "            if verbose:\n",
    "                print('Test error: {}; test accuracy: {}'.format(self.test_error[-1], self.test_accuracy[-1]))\n",
    "        return self\n",
    "    \n",
    "    def predict(self, x):\n",
    "        # Used to keep all test errors after each epoch\n",
    "        model = self.model.eval()\n",
    "        outputs = model(Variable(x))\n",
    "        _, pred = torch.max(outputs.data, 1)\n",
    "        model = self.model.train()\n",
    "        return pred\n",
    "    \n",
    "    def __str__(self):\n",
    "        return 'Hidden layers: {}; dropout rates: {}'.format(self.hidden_layers, self.droprates)"
   ]
  },
  {
   "cell_type": "code",
   "execution_count": 20,
   "metadata": {},
   "outputs": [],
   "source": [
    "hidden_layers = [800, 800]\n",
    "\n",
    "mlp_classifier = MLPClassifier(hidden_layers, droprates=[0.3, 0.5], max_epoch=20)"
   ]
  },
  {
   "cell_type": "code",
   "execution_count": 21,
   "metadata": {},
   "outputs": [
    {
     "name": "stdout",
     "output_type": "stream",
     "text": [
      "MLP(\n",
      "  (model): Sequential(\n",
      "    (dropout0): CustomDropout()\n",
      "    (input): Linear(in_features=784, out_features=800, bias=True)\n",
      "    (tanh): Tanh()\n",
      "    (dropout_hidden1): CustomDropout()\n",
      "    (hidden1): Linear(in_features=800, out_features=800, bias=True)\n",
      "    (tanh_hidden1): Tanh()\n",
      "    (final): Linear(in_features=800, out_features=10, bias=True)\n",
      "  )\n",
      ")\n"
     ]
    }
   ],
   "source": [
    "print(mlp_classifier.model)"
   ]
  },
  {
   "cell_type": "code",
   "execution_count": 22,
   "metadata": {},
   "outputs": [
    {
     "name": "stdout",
     "output_type": "stream",
     "text": [
      "Epoch 1 loss: 0.582422137260437\n",
      "Test error: 937; test accuracy: 0.9063\n",
      "Epoch 2 loss: 0.4148445129394531\n",
      "Test error: 838; test accuracy: 0.9161\n",
      "Epoch 3 loss: 0.36639198660850525\n",
      "Test error: 736; test accuracy: 0.9264\n",
      "Epoch 4 loss: 0.3174746334552765\n",
      "Test error: 618; test accuracy: 0.9381\n",
      "Epoch 5 loss: 0.27344056963920593\n",
      "Test error: 558; test accuracy: 0.9441\n",
      "Epoch 6 loss: 0.2490393966436386\n",
      "Test error: 504; test accuracy: 0.9496\n",
      "Epoch 7 loss: 0.2256380319595337\n",
      "Test error: 454; test accuracy: 0.9545\n",
      "Epoch 8 loss: 0.20543135702610016\n",
      "Test error: 376; test accuracy: 0.9623\n",
      "Epoch 9 loss: 0.1898466944694519\n",
      "Test error: 365; test accuracy: 0.9634\n",
      "Epoch 10 loss: 0.1771884560585022\n",
      "Test error: 331; test accuracy: 0.9669\n",
      "Epoch 11 loss: 0.16817300021648407\n",
      "Test error: 331; test accuracy: 0.9669\n",
      "Epoch 12 loss: 0.1592063009738922\n",
      "Test error: 294; test accuracy: 0.9705\n",
      "Epoch 13 loss: 0.15038157999515533\n",
      "Test error: 295; test accuracy: 0.9704\n",
      "Epoch 14 loss: 0.14184556901454926\n",
      "Test error: 275; test accuracy: 0.9724\n",
      "Epoch 15 loss: 0.13710913062095642\n",
      "Test error: 273; test accuracy: 0.9726\n",
      "Epoch 16 loss: 0.13110381364822388\n",
      "Test error: 258; test accuracy: 0.9742\n",
      "Epoch 17 loss: 0.1254611611366272\n",
      "Test error: 251; test accuracy: 0.9749\n",
      "Epoch 18 loss: 0.12147492915391922\n",
      "Test error: 254; test accuracy: 0.9745\n",
      "Epoch 19 loss: 0.11582121253013611\n",
      "Test error: 224; test accuracy: 0.9775\n",
      "Epoch 20 loss: 0.11278487741947174\n",
      "Test error: 221; test accuracy: 0.9778\n"
     ]
    },
    {
     "data": {
      "text/plain": [
       "<__main__.MLPClassifier at 0x28f06d0d4a8>"
      ]
     },
     "execution_count": 22,
     "metadata": {},
     "output_type": "execute_result"
    }
   ],
   "source": [
    "mlp_classifier.fit(trainset, testset,verbose=True) "
   ]
  },
  {
   "cell_type": "code",
   "execution_count": 11,
   "metadata": {},
   "outputs": [
    {
     "name": "stdout",
     "output_type": "stream",
     "text": [
      "Epoch 1 loss: 0.5032181143760681\n",
      "Test error: 937; test accuracy: 0.9063\n",
      "Epoch 2 loss: 0.32592859864234924\n",
      "Test error: 850; test accuracy: 0.9149\n",
      "Epoch 3 loss: 0.2760166525840759\n",
      "Test error: 633; test accuracy: 0.9367\n",
      "Epoch 4 loss: 0.23245476186275482\n",
      "Test error: 628; test accuracy: 0.9371\n",
      "Epoch 5 loss: 0.2008836716413498\n",
      "Test error: 493; test accuracy: 0.9507\n",
      "Epoch 6 loss: 0.17545178532600403\n",
      "Test error: 435; test accuracy: 0.9564\n",
      "Epoch 7 loss: 0.1564868539571762\n",
      "Test error: 380; test accuracy: 0.962\n",
      "Epoch 8 loss: 0.14121775329113007\n",
      "Test error: 416; test accuracy: 0.9583\n",
      "Epoch 9 loss: 0.1291002780199051\n",
      "Test error: 353; test accuracy: 0.9647\n",
      "Epoch 10 loss: 0.12059856951236725\n",
      "Test error: 325; test accuracy: 0.9674\n",
      "Epoch 11 loss: 0.10960168391466141\n",
      "Test error: 326; test accuracy: 0.9673\n",
      "Epoch 12 loss: 0.10118421912193298\n",
      "Test error: 283; test accuracy: 0.9716\n",
      "Epoch 13 loss: 0.09508046507835388\n",
      "Test error: 283; test accuracy: 0.9716\n",
      "Epoch 14 loss: 0.08917289972305298\n",
      "Test error: 259; test accuracy: 0.9741\n",
      "Epoch 15 loss: 0.08330867439508438\n",
      "Test error: 254; test accuracy: 0.9745\n",
      "Epoch 16 loss: 0.07845217734575272\n",
      "Test error: 262; test accuracy: 0.9738\n",
      "Epoch 17 loss: 0.07455819845199585\n",
      "Test error: 240; test accuracy: 0.976\n",
      "Epoch 18 loss: 0.07089381664991379\n",
      "Test error: 260; test accuracy: 0.974\n",
      "Epoch 19 loss: 0.06410777568817139\n",
      "Test error: 242; test accuracy: 0.9758\n",
      "Epoch 20 loss: 0.06232454255223274\n",
      "Test error: 250; test accuracy: 0.975\n"
     ]
    },
    {
     "data": {
      "text/plain": [
       "<__main__.MLPClassifier at 0x28f06a80588>"
      ]
     },
     "execution_count": 11,
     "metadata": {},
     "output_type": "execute_result"
    }
   ],
   "source": [
    "mlp_classifier.fit(trainset, testset,verbose=True) "
   ]
  },
  {
   "cell_type": "code",
   "execution_count": null,
   "metadata": {},
   "outputs": [],
   "source": []
  },
  {
   "cell_type": "code",
   "execution_count": 13,
   "metadata": {},
   "outputs": [
    {
     "data": {
      "image/png": "[encoded data removed]",
      "text/plain": [
       "<Figure size 576x504 with 1 Axes>"
      ]
     },
     "metadata": {
      "needs_background": "light"
     },
     "output_type": "display_data"
    }
   ],
   "source": [
    "plt.figure(figsize=(8, 7))\n",
    "\n",
    "plt.plot(range(1, len(mlp_classifier.test_error)+1), mlp_classifier.test_error, '.-', label=\"Errored item\", alpha=0.6);\n",
    "\n",
    "plt.legend(loc=1);\n",
    "plt.xlabel('Epochs');\n",
    "plt.ylabel('Number of errors in test set');\n",
    "plt.title('Test error on MNIST dataset for Multilayer Perceptron')\n",
    "plt.show()"
   ]
  },
  {
   "cell_type": "code",
   "execution_count": null,
   "metadata": {},
   "outputs": [],
   "source": []
  },
  {
   "cell_type": "code",
   "execution_count": null,
   "metadata": {},
   "outputs": [],
   "source": []
  }
 ],
 "metadata": {
  "kernelspec": {
   "display_name": "Python 3",
   "language": "python",
   "name": "python3"
  },
  "language_info": {
   "codemirror_mode": {
    "name": "ipython",
    "version": 3
   },
   "file_extension": ".py",
   "mimetype": "text/x-python",
   "name": "python",
   "nbconvert_exporter": "python",
   "pygments_lexer": "ipython3",
   "version": "3.7.1"
  }
 },
 "nbformat": 4,
 "nbformat_minor": 2
}
